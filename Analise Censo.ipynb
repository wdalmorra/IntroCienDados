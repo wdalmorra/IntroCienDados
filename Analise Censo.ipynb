{
 "cells": [
  {
   "cell_type": "code",
   "execution_count": 2,
   "metadata": {},
   "outputs": [],
   "source": [
    "%matplotlib inline\n",
    "import pandas as pd\n",
    "import matplotlib as plt"
   ]
  },
  {
   "cell_type": "code",
   "execution_count": 3,
   "metadata": {},
   "outputs": [
    {
     "name": "stderr",
     "output_type": "stream",
     "text": [
      "/usr/local/lib/python2.7/dist-packages/IPython/core/interactiveshell.py:2718: DtypeWarning: Columns (40,45,46,53,103,104,105,106,107,108,109,110,111,112,113,114,115,116,117,118,119,120,121,122,123,124,125,126,127,128,129,130,131,132,133,134,135,136,137,144,145,146,150,154,155) have mixed types. Specify dtype option on import or set low_memory=False.\n",
      "  interactivity=interactivity, compiler=compiler, result=result)\n"
     ]
    }
   ],
   "source": [
    "df = pd.read_csv(\"dados_censo.csv\")"
   ]
  },
  {
   "cell_type": "code",
   "execution_count": 4,
   "metadata": {},
   "outputs": [
    {
     "data": {
      "text/plain": [
       "(16695, 237)"
      ]
     },
     "execution_count": 4,
     "metadata": {},
     "output_type": "execute_result"
    }
   ],
   "source": [
    "df.shape"
   ]
  },
  {
   "cell_type": "code",
   "execution_count": 5,
   "metadata": {},
   "outputs": [
    {
     "data": {
      "text/html": [
       "<div>\n",
       "<style scoped>\n",
       "    .dataframe tbody tr th:only-of-type {\n",
       "        vertical-align: middle;\n",
       "    }\n",
       "\n",
       "    .dataframe tbody tr th {\n",
       "        vertical-align: top;\n",
       "    }\n",
       "\n",
       "    .dataframe thead th {\n",
       "        text-align: right;\n",
       "    }\n",
       "</style>\n",
       "<table border=\"1\" class=\"dataframe\">\n",
       "  <thead>\n",
       "    <tr style=\"text-align: right;\">\n",
       "      <th></th>\n",
       "      <th>ANO</th>\n",
       "      <th>UF</th>\n",
       "      <th>Codmun6</th>\n",
       "      <th>Codmun7</th>\n",
       "      <th>Município</th>\n",
       "      <th>ESPVIDA</th>\n",
       "      <th>FECTOT</th>\n",
       "      <th>MORT1</th>\n",
       "      <th>MORT5</th>\n",
       "      <th>RAZDEP</th>\n",
       "      <th>...</th>\n",
       "      <th>PIA1517</th>\n",
       "      <th>PIA18M</th>\n",
       "      <th>POP</th>\n",
       "      <th>POPT</th>\n",
       "      <th>I_ESCOLARIDADE</th>\n",
       "      <th>I_FREQ_PROP</th>\n",
       "      <th>IDHM</th>\n",
       "      <th>IDHM_E</th>\n",
       "      <th>IDHM_L</th>\n",
       "      <th>IDHM_R</th>\n",
       "    </tr>\n",
       "  </thead>\n",
       "  <tbody>\n",
       "    <tr>\n",
       "      <th>0</th>\n",
       "      <td>1991</td>\n",
       "      <td>11</td>\n",
       "      <td>110001</td>\n",
       "      <td>1100015</td>\n",
       "      <td>ALTA FLORESTA D'OESTE</td>\n",
       "      <td>62,01</td>\n",
       "      <td>4,08</td>\n",
       "      <td>45,58</td>\n",
       "      <td>58,05</td>\n",
       "      <td>73,50</td>\n",
       "      <td>...</td>\n",
       "      <td>NaN</td>\n",
       "      <td>NaN</td>\n",
       "      <td>23417</td>\n",
       "      <td>22835</td>\n",
       "      <td>0,117</td>\n",
       "      <td>0,109</td>\n",
       "      <td>0,329</td>\n",
       "      <td>0,112</td>\n",
       "      <td>0,617</td>\n",
       "      <td>0,516</td>\n",
       "    </tr>\n",
       "    <tr>\n",
       "      <th>1</th>\n",
       "      <td>1991</td>\n",
       "      <td>11</td>\n",
       "      <td>110002</td>\n",
       "      <td>1100023</td>\n",
       "      <td>ARIQUEMES</td>\n",
       "      <td>66,02</td>\n",
       "      <td>3,72</td>\n",
       "      <td>32,39</td>\n",
       "      <td>41,41</td>\n",
       "      <td>69,97</td>\n",
       "      <td>...</td>\n",
       "      <td>NaN</td>\n",
       "      <td>NaN</td>\n",
       "      <td>56061</td>\n",
       "      <td>55018</td>\n",
       "      <td>0,200</td>\n",
       "      <td>0,199</td>\n",
       "      <td>0,432</td>\n",
       "      <td>0,199</td>\n",
       "      <td>0,684</td>\n",
       "      <td>0,593</td>\n",
       "    </tr>\n",
       "    <tr>\n",
       "      <th>2</th>\n",
       "      <td>1991</td>\n",
       "      <td>11</td>\n",
       "      <td>110003</td>\n",
       "      <td>1100031</td>\n",
       "      <td>CABIXI</td>\n",
       "      <td>63,16</td>\n",
       "      <td>3,89</td>\n",
       "      <td>41,52</td>\n",
       "      <td>52,94</td>\n",
       "      <td>77,23</td>\n",
       "      <td>...</td>\n",
       "      <td>NaN</td>\n",
       "      <td>NaN</td>\n",
       "      <td>7601</td>\n",
       "      <td>5846</td>\n",
       "      <td>0,111</td>\n",
       "      <td>0,106</td>\n",
       "      <td>0,309</td>\n",
       "      <td>0,108</td>\n",
       "      <td>0,636</td>\n",
       "      <td>0,430</td>\n",
       "    </tr>\n",
       "    <tr>\n",
       "      <th>3</th>\n",
       "      <td>1991</td>\n",
       "      <td>11</td>\n",
       "      <td>110004</td>\n",
       "      <td>1100049</td>\n",
       "      <td>CACOAL</td>\n",
       "      <td>65,03</td>\n",
       "      <td>3,81</td>\n",
       "      <td>35,37</td>\n",
       "      <td>45,19</td>\n",
       "      <td>71,11</td>\n",
       "      <td>...</td>\n",
       "      <td>NaN</td>\n",
       "      <td>NaN</td>\n",
       "      <td>69173</td>\n",
       "      <td>66534</td>\n",
       "      <td>0,176</td>\n",
       "      <td>0,169</td>\n",
       "      <td>0,407</td>\n",
       "      <td>0,171</td>\n",
       "      <td>0,667</td>\n",
       "      <td>0,593</td>\n",
       "    </tr>\n",
       "    <tr>\n",
       "      <th>4</th>\n",
       "      <td>1991</td>\n",
       "      <td>11</td>\n",
       "      <td>110005</td>\n",
       "      <td>1100056</td>\n",
       "      <td>CEREJEIRAS</td>\n",
       "      <td>62,73</td>\n",
       "      <td>3,55</td>\n",
       "      <td>43,00</td>\n",
       "      <td>54,82</td>\n",
       "      <td>71,09</td>\n",
       "      <td>...</td>\n",
       "      <td>NaN</td>\n",
       "      <td>NaN</td>\n",
       "      <td>19451</td>\n",
       "      <td>19030</td>\n",
       "      <td>0,152</td>\n",
       "      <td>0,175</td>\n",
       "      <td>0,386</td>\n",
       "      <td>0,167</td>\n",
       "      <td>0,629</td>\n",
       "      <td>0,547</td>\n",
       "    </tr>\n",
       "  </tbody>\n",
       "</table>\n",
       "<p>5 rows × 237 columns</p>\n",
       "</div>"
      ],
      "text/plain": [
       "    ANO  UF  Codmun6  Codmun7              Município ESPVIDA FECTOT  MORT1  \\\n",
       "0  1991  11   110001  1100015  ALTA FLORESTA D'OESTE   62,01   4,08  45,58   \n",
       "1  1991  11   110002  1100023              ARIQUEMES   66,02   3,72  32,39   \n",
       "2  1991  11   110003  1100031                 CABIXI   63,16   3,89  41,52   \n",
       "3  1991  11   110004  1100049                 CACOAL   65,03   3,81  35,37   \n",
       "4  1991  11   110005  1100056             CEREJEIRAS   62,73   3,55  43,00   \n",
       "\n",
       "   MORT5 RAZDEP  ...   PIA1517 PIA18M    POP   POPT I_ESCOLARIDADE  \\\n",
       "0  58,05  73,50  ...       NaN    NaN  23417  22835          0,117   \n",
       "1  41,41  69,97  ...       NaN    NaN  56061  55018          0,200   \n",
       "2  52,94  77,23  ...       NaN    NaN   7601   5846          0,111   \n",
       "3  45,19  71,11  ...       NaN    NaN  69173  66534          0,176   \n",
       "4  54,82  71,09  ...       NaN    NaN  19451  19030          0,152   \n",
       "\n",
       "  I_FREQ_PROP   IDHM IDHM_E IDHM_L IDHM_R  \n",
       "0       0,109  0,329  0,112  0,617  0,516  \n",
       "1       0,199  0,432  0,199  0,684  0,593  \n",
       "2       0,106  0,309  0,108  0,636  0,430  \n",
       "3       0,169  0,407  0,171  0,667  0,593  \n",
       "4       0,175  0,386  0,167  0,629  0,547  \n",
       "\n",
       "[5 rows x 237 columns]"
      ]
     },
     "execution_count": 5,
     "metadata": {},
     "output_type": "execute_result"
    }
   ],
   "source": [
    "df.head()"
   ]
  },
  {
   "cell_type": "code",
   "execution_count": 6,
   "metadata": {},
   "outputs": [
    {
     "name": "stdout",
     "output_type": "stream",
     "text": [
      "<class 'pandas.core.frame.DataFrame'>\n",
      "RangeIndex: 16695 entries, 0 to 16694\n",
      "Columns: 237 entries, ANO to IDHM_R\n",
      "dtypes: float64(8), int64(69), object(160)\n",
      "memory usage: 30.2+ MB\n"
     ]
    }
   ],
   "source": [
    "df.info()"
   ]
  }
 ],
 "metadata": {
  "kernelspec": {
   "display_name": "Python 2",
   "language": "python",
   "name": "python2"
  },
  "language_info": {
   "codemirror_mode": {
    "name": "ipython",
    "version": 2
   },
   "file_extension": ".py",
   "mimetype": "text/x-python",
   "name": "python",
   "nbconvert_exporter": "python",
   "pygments_lexer": "ipython2",
   "version": "2.7.12"
  }
 },
 "nbformat": 4,
 "nbformat_minor": 2
}
