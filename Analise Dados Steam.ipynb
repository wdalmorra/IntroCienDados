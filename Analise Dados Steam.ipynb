{
 "cells": [
  {
   "cell_type": "code",
   "execution_count": 1,
   "metadata": {},
   "outputs": [],
   "source": [
    "%matplotlib inline\n",
    "import pandas as pd\n",
    "import matplotlib as plt"
   ]
  },
  {
   "cell_type": "code",
   "execution_count": 2,
   "metadata": {},
   "outputs": [],
   "source": [
    "df = pd.read_csv(\"output.csv\")"
   ]
  },
  {
   "cell_type": "code",
   "execution_count": 3,
   "metadata": {},
   "outputs": [
    {
     "data": {
      "text/plain": [
       "(32148, 85)"
      ]
     },
     "execution_count": 3,
     "metadata": {},
     "output_type": "execute_result"
    }
   ],
   "source": [
    "df.shape"
   ]
  },
  {
   "cell_type": "code",
   "execution_count": 4,
   "metadata": {
    "scrolled": false
   },
   "outputs": [
    {
     "data": {
      "text/html": [
       "<div>\n",
       "<style>\n",
       "    .dataframe thead tr:only-child th {\n",
       "        text-align: right;\n",
       "    }\n",
       "\n",
       "    .dataframe thead th {\n",
       "        text-align: left;\n",
       "    }\n",
       "\n",
       "    .dataframe tbody tr th {\n",
       "        vertical-align: top;\n",
       "    }\n",
       "</style>\n",
       "<table border=\"1\" class=\"dataframe\">\n",
       "  <thead>\n",
       "    <tr style=\"text-align: right;\">\n",
       "      <th></th>\n",
       "      <th>id</th>\n",
       "      <th>nome</th>\n",
       "      <th>tipo</th>\n",
       "      <th>idade_min</th>\n",
       "      <th>n_ling_sup</th>\n",
       "      <th>moeda</th>\n",
       "      <th>preco_orig</th>\n",
       "      <th>preco_desc</th>\n",
       "      <th>windows</th>\n",
       "      <th>mac</th>\n",
       "      <th>...</th>\n",
       "      <th>Includes level editor</th>\n",
       "      <th>Steam Turn Notifications</th>\n",
       "      <th>VR Support</th>\n",
       "      <th>SteamVR Collectibles</th>\n",
       "      <th>Includes Source SDK</th>\n",
       "      <th>Commentary available</th>\n",
       "      <th>Mods</th>\n",
       "      <th>n_recomendacoes</th>\n",
       "      <th>n_achievements</th>\n",
       "      <th>data_lancamento</th>\n",
       "    </tr>\n",
       "  </thead>\n",
       "  <tbody>\n",
       "    <tr>\n",
       "      <th>0</th>\n",
       "      <td>711022</td>\n",
       "      <td>Fractured Space - Fleet Pack</td>\n",
       "      <td>dlc</td>\n",
       "      <td>0</td>\n",
       "      <td>1</td>\n",
       "      <td>BRL</td>\n",
       "      <td>9399.0</td>\n",
       "      <td>9399.0</td>\n",
       "      <td>1</td>\n",
       "      <td>0</td>\n",
       "      <td>...</td>\n",
       "      <td>0</td>\n",
       "      <td>0</td>\n",
       "      <td>0</td>\n",
       "      <td>0</td>\n",
       "      <td>0</td>\n",
       "      <td>0</td>\n",
       "      <td>0</td>\n",
       "      <td>NaN</td>\n",
       "      <td>NaN</td>\n",
       "      <td>3 Oct, 2017</td>\n",
       "    </tr>\n",
       "    <tr>\n",
       "      <th>1</th>\n",
       "      <td>393042</td>\n",
       "      <td>Sakura Clicker - Chocolate Outfit</td>\n",
       "      <td>dlc</td>\n",
       "      <td>17</td>\n",
       "      <td>1</td>\n",
       "      <td>BRL</td>\n",
       "      <td>429.0</td>\n",
       "      <td>429.0</td>\n",
       "      <td>1</td>\n",
       "      <td>0</td>\n",
       "      <td>...</td>\n",
       "      <td>0</td>\n",
       "      <td>0</td>\n",
       "      <td>0</td>\n",
       "      <td>0</td>\n",
       "      <td>0</td>\n",
       "      <td>0</td>\n",
       "      <td>0</td>\n",
       "      <td>NaN</td>\n",
       "      <td>NaN</td>\n",
       "      <td>11 Aug, 2015</td>\n",
       "    </tr>\n",
       "    <tr>\n",
       "      <th>2</th>\n",
       "      <td>583260</td>\n",
       "      <td>Alone With You - Official Soundtrack</td>\n",
       "      <td>dlc</td>\n",
       "      <td>0</td>\n",
       "      <td>1</td>\n",
       "      <td>BRL</td>\n",
       "      <td>1049.0</td>\n",
       "      <td>1049.0</td>\n",
       "      <td>1</td>\n",
       "      <td>1</td>\n",
       "      <td>...</td>\n",
       "      <td>0</td>\n",
       "      <td>0</td>\n",
       "      <td>0</td>\n",
       "      <td>0</td>\n",
       "      <td>0</td>\n",
       "      <td>0</td>\n",
       "      <td>0</td>\n",
       "      <td>NaN</td>\n",
       "      <td>NaN</td>\n",
       "      <td>9 Feb, 2017</td>\n",
       "    </tr>\n",
       "    <tr>\n",
       "      <th>3</th>\n",
       "      <td>531166</td>\n",
       "      <td>DEAD OR ALIVE 5 Last Round: Core Fighters Char...</td>\n",
       "      <td>dlc</td>\n",
       "      <td>16</td>\n",
       "      <td>8</td>\n",
       "      <td>BRL</td>\n",
       "      <td>839.0</td>\n",
       "      <td>839.0</td>\n",
       "      <td>1</td>\n",
       "      <td>0</td>\n",
       "      <td>...</td>\n",
       "      <td>0</td>\n",
       "      <td>0</td>\n",
       "      <td>0</td>\n",
       "      <td>0</td>\n",
       "      <td>0</td>\n",
       "      <td>0</td>\n",
       "      <td>0</td>\n",
       "      <td>NaN</td>\n",
       "      <td>NaN</td>\n",
       "      <td>3 Oct, 2016</td>\n",
       "    </tr>\n",
       "    <tr>\n",
       "      <th>4</th>\n",
       "      <td>428260</td>\n",
       "      <td>The Book of Desires</td>\n",
       "      <td>game</td>\n",
       "      <td>0</td>\n",
       "      <td>8</td>\n",
       "      <td>BRL</td>\n",
       "      <td>1399.0</td>\n",
       "      <td>1399.0</td>\n",
       "      <td>1</td>\n",
       "      <td>0</td>\n",
       "      <td>...</td>\n",
       "      <td>0</td>\n",
       "      <td>0</td>\n",
       "      <td>0</td>\n",
       "      <td>0</td>\n",
       "      <td>0</td>\n",
       "      <td>0</td>\n",
       "      <td>0</td>\n",
       "      <td>NaN</td>\n",
       "      <td>NaN</td>\n",
       "      <td>18 Dec, 2015</td>\n",
       "    </tr>\n",
       "  </tbody>\n",
       "</table>\n",
       "<p>5 rows × 85 columns</p>\n",
       "</div>"
      ],
      "text/plain": [
       "       id                                               nome  tipo  idade_min  \\\n",
       "0  711022                       Fractured Space - Fleet Pack   dlc          0   \n",
       "1  393042                  Sakura Clicker - Chocolate Outfit   dlc         17   \n",
       "2  583260               Alone With You - Official Soundtrack   dlc          0   \n",
       "3  531166  DEAD OR ALIVE 5 Last Round: Core Fighters Char...   dlc         16   \n",
       "4  428260                                The Book of Desires  game          0   \n",
       "\n",
       "   n_ling_sup moeda  preco_orig  preco_desc  windows  mac       ...         \\\n",
       "0           1   BRL      9399.0      9399.0        1    0       ...          \n",
       "1           1   BRL       429.0       429.0        1    0       ...          \n",
       "2           1   BRL      1049.0      1049.0        1    1       ...          \n",
       "3           8   BRL       839.0       839.0        1    0       ...          \n",
       "4           8   BRL      1399.0      1399.0        1    0       ...          \n",
       "\n",
       "   Includes level editor  Steam Turn Notifications  VR Support  \\\n",
       "0                      0                         0           0   \n",
       "1                      0                         0           0   \n",
       "2                      0                         0           0   \n",
       "3                      0                         0           0   \n",
       "4                      0                         0           0   \n",
       "\n",
       "   SteamVR Collectibles  Includes Source SDK  Commentary available  Mods  \\\n",
       "0                     0                    0                     0     0   \n",
       "1                     0                    0                     0     0   \n",
       "2                     0                    0                     0     0   \n",
       "3                     0                    0                     0     0   \n",
       "4                     0                    0                     0     0   \n",
       "\n",
       "   n_recomendacoes  n_achievements  data_lancamento  \n",
       "0              NaN             NaN      3 Oct, 2017  \n",
       "1              NaN             NaN     11 Aug, 2015  \n",
       "2              NaN             NaN      9 Feb, 2017  \n",
       "3              NaN             NaN      3 Oct, 2016  \n",
       "4              NaN             NaN     18 Dec, 2015  \n",
       "\n",
       "[5 rows x 85 columns]"
      ]
     },
     "execution_count": 4,
     "metadata": {},
     "output_type": "execute_result"
    }
   ],
   "source": [
    "df.head()"
   ]
  },
  {
   "cell_type": "code",
   "execution_count": 5,
   "metadata": {
    "scrolled": true
   },
   "outputs": [
    {
     "data": {
      "text/html": [
       "<div>\n",
       "<style>\n",
       "    .dataframe thead tr:only-child th {\n",
       "        text-align: right;\n",
       "    }\n",
       "\n",
       "    .dataframe thead th {\n",
       "        text-align: left;\n",
       "    }\n",
       "\n",
       "    .dataframe tbody tr th {\n",
       "        vertical-align: top;\n",
       "    }\n",
       "</style>\n",
       "<table border=\"1\" class=\"dataframe\">\n",
       "  <thead>\n",
       "    <tr style=\"text-align: right;\">\n",
       "      <th></th>\n",
       "      <th>id</th>\n",
       "      <th>nome</th>\n",
       "      <th>idade_min</th>\n",
       "      <th>n_ling_sup</th>\n",
       "      <th>moeda</th>\n",
       "      <th>preco_orig</th>\n",
       "      <th>preco_desc</th>\n",
       "      <th>windows</th>\n",
       "      <th>mac</th>\n",
       "      <th>linux</th>\n",
       "      <th>...</th>\n",
       "      <th>Includes level editor</th>\n",
       "      <th>Steam Turn Notifications</th>\n",
       "      <th>VR Support</th>\n",
       "      <th>SteamVR Collectibles</th>\n",
       "      <th>Includes Source SDK</th>\n",
       "      <th>Commentary available</th>\n",
       "      <th>Mods</th>\n",
       "      <th>n_recomendacoes</th>\n",
       "      <th>n_achievements</th>\n",
       "      <th>data_lancamento</th>\n",
       "    </tr>\n",
       "    <tr>\n",
       "      <th>tipo</th>\n",
       "      <th></th>\n",
       "      <th></th>\n",
       "      <th></th>\n",
       "      <th></th>\n",
       "      <th></th>\n",
       "      <th></th>\n",
       "      <th></th>\n",
       "      <th></th>\n",
       "      <th></th>\n",
       "      <th></th>\n",
       "      <th></th>\n",
       "      <th></th>\n",
       "      <th></th>\n",
       "      <th></th>\n",
       "      <th></th>\n",
       "      <th></th>\n",
       "      <th></th>\n",
       "      <th></th>\n",
       "      <th></th>\n",
       "      <th></th>\n",
       "      <th></th>\n",
       "    </tr>\n",
       "  </thead>\n",
       "  <tbody>\n",
       "    <tr>\n",
       "      <th>dlc</th>\n",
       "      <td>12790</td>\n",
       "      <td>12790</td>\n",
       "      <td>12790</td>\n",
       "      <td>12790</td>\n",
       "      <td>11742</td>\n",
       "      <td>11742</td>\n",
       "      <td>11742</td>\n",
       "      <td>12790</td>\n",
       "      <td>12790</td>\n",
       "      <td>12790</td>\n",
       "      <td>...</td>\n",
       "      <td>12790</td>\n",
       "      <td>12790</td>\n",
       "      <td>12790</td>\n",
       "      <td>12790</td>\n",
       "      <td>12790</td>\n",
       "      <td>12790</td>\n",
       "      <td>12790</td>\n",
       "      <td>564</td>\n",
       "      <td>199</td>\n",
       "      <td>12639</td>\n",
       "    </tr>\n",
       "    <tr>\n",
       "      <th>game</th>\n",
       "      <td>19358</td>\n",
       "      <td>19357</td>\n",
       "      <td>19358</td>\n",
       "      <td>19358</td>\n",
       "      <td>16346</td>\n",
       "      <td>16346</td>\n",
       "      <td>16346</td>\n",
       "      <td>19358</td>\n",
       "      <td>19358</td>\n",
       "      <td>19358</td>\n",
       "      <td>...</td>\n",
       "      <td>19358</td>\n",
       "      <td>19358</td>\n",
       "      <td>19358</td>\n",
       "      <td>19358</td>\n",
       "      <td>19358</td>\n",
       "      <td>19358</td>\n",
       "      <td>19358</td>\n",
       "      <td>6773</td>\n",
       "      <td>11428</td>\n",
       "      <td>19239</td>\n",
       "    </tr>\n",
       "  </tbody>\n",
       "</table>\n",
       "<p>2 rows × 84 columns</p>\n",
       "</div>"
      ],
      "text/plain": [
       "         id   nome  idade_min  n_ling_sup  moeda  preco_orig  preco_desc  \\\n",
       "tipo                                                                       \n",
       "dlc   12790  12790      12790       12790  11742       11742       11742   \n",
       "game  19358  19357      19358       19358  16346       16346       16346   \n",
       "\n",
       "      windows    mac  linux       ...         Includes level editor  \\\n",
       "tipo                              ...                                 \n",
       "dlc     12790  12790  12790       ...                         12790   \n",
       "game    19358  19358  19358       ...                         19358   \n",
       "\n",
       "      Steam Turn Notifications  VR Support  SteamVR Collectibles  \\\n",
       "tipo                                                               \n",
       "dlc                      12790       12790                 12790   \n",
       "game                     19358       19358                 19358   \n",
       "\n",
       "      Includes Source SDK  Commentary available   Mods  n_recomendacoes  \\\n",
       "tipo                                                                      \n",
       "dlc                 12790                 12790  12790              564   \n",
       "game                19358                 19358  19358             6773   \n",
       "\n",
       "      n_achievements  data_lancamento  \n",
       "tipo                                   \n",
       "dlc              199            12639  \n",
       "game           11428            19239  \n",
       "\n",
       "[2 rows x 84 columns]"
      ]
     },
     "execution_count": 5,
     "metadata": {},
     "output_type": "execute_result"
    }
   ],
   "source": [
    "df.groupby('tipo').count()"
   ]
  },
  {
   "cell_type": "code",
   "execution_count": 6,
   "metadata": {},
   "outputs": [],
   "source": [
    "games = df[df.tipo == \"game\"].copy()"
   ]
  },
  {
   "cell_type": "code",
   "execution_count": 7,
   "metadata": {},
   "outputs": [],
   "source": [
    "dlcs = df[df.tipo == \"dlc\"].copy()"
   ]
  },
  {
   "cell_type": "code",
   "execution_count": 8,
   "metadata": {},
   "outputs": [
    {
     "data": {
      "text/html": [
       "<div>\n",
       "<style>\n",
       "    .dataframe thead tr:only-child th {\n",
       "        text-align: right;\n",
       "    }\n",
       "\n",
       "    .dataframe thead th {\n",
       "        text-align: left;\n",
       "    }\n",
       "\n",
       "    .dataframe tbody tr th {\n",
       "        vertical-align: top;\n",
       "    }\n",
       "</style>\n",
       "<table border=\"1\" class=\"dataframe\">\n",
       "  <thead>\n",
       "    <tr style=\"text-align: right;\">\n",
       "      <th></th>\n",
       "      <th>id</th>\n",
       "      <th>nome</th>\n",
       "      <th>tipo</th>\n",
       "      <th>idade_min</th>\n",
       "      <th>n_ling_sup</th>\n",
       "      <th>moeda</th>\n",
       "      <th>preco_orig</th>\n",
       "      <th>preco_desc</th>\n",
       "      <th>windows</th>\n",
       "      <th>mac</th>\n",
       "      <th>...</th>\n",
       "      <th>Includes level editor</th>\n",
       "      <th>Steam Turn Notifications</th>\n",
       "      <th>VR Support</th>\n",
       "      <th>SteamVR Collectibles</th>\n",
       "      <th>Includes Source SDK</th>\n",
       "      <th>Commentary available</th>\n",
       "      <th>Mods</th>\n",
       "      <th>n_recomendacoes</th>\n",
       "      <th>n_achievements</th>\n",
       "      <th>data_lancamento</th>\n",
       "    </tr>\n",
       "  </thead>\n",
       "  <tbody>\n",
       "    <tr>\n",
       "      <th>0</th>\n",
       "      <td>711022</td>\n",
       "      <td>Fractured Space - Fleet Pack</td>\n",
       "      <td>dlc</td>\n",
       "      <td>0</td>\n",
       "      <td>1</td>\n",
       "      <td>BRL</td>\n",
       "      <td>9399.0</td>\n",
       "      <td>9399.0</td>\n",
       "      <td>1</td>\n",
       "      <td>0</td>\n",
       "      <td>...</td>\n",
       "      <td>0</td>\n",
       "      <td>0</td>\n",
       "      <td>0</td>\n",
       "      <td>0</td>\n",
       "      <td>0</td>\n",
       "      <td>0</td>\n",
       "      <td>0</td>\n",
       "      <td>NaN</td>\n",
       "      <td>NaN</td>\n",
       "      <td>3 Oct, 2017</td>\n",
       "    </tr>\n",
       "    <tr>\n",
       "      <th>1</th>\n",
       "      <td>393042</td>\n",
       "      <td>Sakura Clicker - Chocolate Outfit</td>\n",
       "      <td>dlc</td>\n",
       "      <td>17</td>\n",
       "      <td>1</td>\n",
       "      <td>BRL</td>\n",
       "      <td>429.0</td>\n",
       "      <td>429.0</td>\n",
       "      <td>1</td>\n",
       "      <td>0</td>\n",
       "      <td>...</td>\n",
       "      <td>0</td>\n",
       "      <td>0</td>\n",
       "      <td>0</td>\n",
       "      <td>0</td>\n",
       "      <td>0</td>\n",
       "      <td>0</td>\n",
       "      <td>0</td>\n",
       "      <td>NaN</td>\n",
       "      <td>NaN</td>\n",
       "      <td>11 Aug, 2015</td>\n",
       "    </tr>\n",
       "    <tr>\n",
       "      <th>2</th>\n",
       "      <td>583260</td>\n",
       "      <td>Alone With You - Official Soundtrack</td>\n",
       "      <td>dlc</td>\n",
       "      <td>0</td>\n",
       "      <td>1</td>\n",
       "      <td>BRL</td>\n",
       "      <td>1049.0</td>\n",
       "      <td>1049.0</td>\n",
       "      <td>1</td>\n",
       "      <td>1</td>\n",
       "      <td>...</td>\n",
       "      <td>0</td>\n",
       "      <td>0</td>\n",
       "      <td>0</td>\n",
       "      <td>0</td>\n",
       "      <td>0</td>\n",
       "      <td>0</td>\n",
       "      <td>0</td>\n",
       "      <td>NaN</td>\n",
       "      <td>NaN</td>\n",
       "      <td>9 Feb, 2017</td>\n",
       "    </tr>\n",
       "    <tr>\n",
       "      <th>3</th>\n",
       "      <td>531166</td>\n",
       "      <td>DEAD OR ALIVE 5 Last Round: Core Fighters Char...</td>\n",
       "      <td>dlc</td>\n",
       "      <td>16</td>\n",
       "      <td>8</td>\n",
       "      <td>BRL</td>\n",
       "      <td>839.0</td>\n",
       "      <td>839.0</td>\n",
       "      <td>1</td>\n",
       "      <td>0</td>\n",
       "      <td>...</td>\n",
       "      <td>0</td>\n",
       "      <td>0</td>\n",
       "      <td>0</td>\n",
       "      <td>0</td>\n",
       "      <td>0</td>\n",
       "      <td>0</td>\n",
       "      <td>0</td>\n",
       "      <td>NaN</td>\n",
       "      <td>NaN</td>\n",
       "      <td>3 Oct, 2016</td>\n",
       "    </tr>\n",
       "    <tr>\n",
       "      <th>8</th>\n",
       "      <td>512670</td>\n",
       "      <td>Winter Novel - Screensaver</td>\n",
       "      <td>dlc</td>\n",
       "      <td>0</td>\n",
       "      <td>1</td>\n",
       "      <td>BRL</td>\n",
       "      <td>219.0</td>\n",
       "      <td>219.0</td>\n",
       "      <td>1</td>\n",
       "      <td>0</td>\n",
       "      <td>...</td>\n",
       "      <td>0</td>\n",
       "      <td>0</td>\n",
       "      <td>0</td>\n",
       "      <td>0</td>\n",
       "      <td>0</td>\n",
       "      <td>0</td>\n",
       "      <td>0</td>\n",
       "      <td>NaN</td>\n",
       "      <td>NaN</td>\n",
       "      <td>10 Aug, 2016</td>\n",
       "    </tr>\n",
       "  </tbody>\n",
       "</table>\n",
       "<p>5 rows × 85 columns</p>\n",
       "</div>"
      ],
      "text/plain": [
       "       id                                               nome tipo  idade_min  \\\n",
       "0  711022                       Fractured Space - Fleet Pack  dlc          0   \n",
       "1  393042                  Sakura Clicker - Chocolate Outfit  dlc         17   \n",
       "2  583260               Alone With You - Official Soundtrack  dlc          0   \n",
       "3  531166  DEAD OR ALIVE 5 Last Round: Core Fighters Char...  dlc         16   \n",
       "8  512670                         Winter Novel - Screensaver  dlc          0   \n",
       "\n",
       "   n_ling_sup moeda  preco_orig  preco_desc  windows  mac       ...         \\\n",
       "0           1   BRL      9399.0      9399.0        1    0       ...          \n",
       "1           1   BRL       429.0       429.0        1    0       ...          \n",
       "2           1   BRL      1049.0      1049.0        1    1       ...          \n",
       "3           8   BRL       839.0       839.0        1    0       ...          \n",
       "8           1   BRL       219.0       219.0        1    0       ...          \n",
       "\n",
       "   Includes level editor  Steam Turn Notifications  VR Support  \\\n",
       "0                      0                         0           0   \n",
       "1                      0                         0           0   \n",
       "2                      0                         0           0   \n",
       "3                      0                         0           0   \n",
       "8                      0                         0           0   \n",
       "\n",
       "   SteamVR Collectibles  Includes Source SDK  Commentary available  Mods  \\\n",
       "0                     0                    0                     0     0   \n",
       "1                     0                    0                     0     0   \n",
       "2                     0                    0                     0     0   \n",
       "3                     0                    0                     0     0   \n",
       "8                     0                    0                     0     0   \n",
       "\n",
       "   n_recomendacoes  n_achievements  data_lancamento  \n",
       "0              NaN             NaN      3 Oct, 2017  \n",
       "1              NaN             NaN     11 Aug, 2015  \n",
       "2              NaN             NaN      9 Feb, 2017  \n",
       "3              NaN             NaN      3 Oct, 2016  \n",
       "8              NaN             NaN     10 Aug, 2016  \n",
       "\n",
       "[5 rows x 85 columns]"
      ]
     },
     "execution_count": 8,
     "metadata": {},
     "output_type": "execute_result"
    }
   ],
   "source": [
    "dlcs.head()"
   ]
  },
  {
   "cell_type": "code",
   "execution_count": 9,
   "metadata": {},
   "outputs": [
    {
     "data": {
      "text/html": [
       "<div>\n",
       "<style>\n",
       "    .dataframe thead tr:only-child th {\n",
       "        text-align: right;\n",
       "    }\n",
       "\n",
       "    .dataframe thead th {\n",
       "        text-align: left;\n",
       "    }\n",
       "\n",
       "    .dataframe tbody tr th {\n",
       "        vertical-align: top;\n",
       "    }\n",
       "</style>\n",
       "<table border=\"1\" class=\"dataframe\">\n",
       "  <thead>\n",
       "    <tr style=\"text-align: right;\">\n",
       "      <th></th>\n",
       "      <th>id</th>\n",
       "      <th>nome</th>\n",
       "      <th>tipo</th>\n",
       "      <th>idade_min</th>\n",
       "      <th>n_ling_sup</th>\n",
       "      <th>moeda</th>\n",
       "      <th>preco_orig</th>\n",
       "      <th>preco_desc</th>\n",
       "      <th>windows</th>\n",
       "      <th>mac</th>\n",
       "      <th>...</th>\n",
       "      <th>Includes level editor</th>\n",
       "      <th>Steam Turn Notifications</th>\n",
       "      <th>VR Support</th>\n",
       "      <th>SteamVR Collectibles</th>\n",
       "      <th>Includes Source SDK</th>\n",
       "      <th>Commentary available</th>\n",
       "      <th>Mods</th>\n",
       "      <th>n_recomendacoes</th>\n",
       "      <th>n_achievements</th>\n",
       "      <th>data_lancamento</th>\n",
       "    </tr>\n",
       "  </thead>\n",
       "  <tbody>\n",
       "    <tr>\n",
       "      <th>4</th>\n",
       "      <td>428260</td>\n",
       "      <td>The Book of Desires</td>\n",
       "      <td>game</td>\n",
       "      <td>0</td>\n",
       "      <td>8</td>\n",
       "      <td>BRL</td>\n",
       "      <td>1399.0</td>\n",
       "      <td>1399.0</td>\n",
       "      <td>1</td>\n",
       "      <td>0</td>\n",
       "      <td>...</td>\n",
       "      <td>0</td>\n",
       "      <td>0</td>\n",
       "      <td>0</td>\n",
       "      <td>0</td>\n",
       "      <td>0</td>\n",
       "      <td>0</td>\n",
       "      <td>0</td>\n",
       "      <td>NaN</td>\n",
       "      <td>NaN</td>\n",
       "      <td>18 Dec, 2015</td>\n",
       "    </tr>\n",
       "    <tr>\n",
       "      <th>5</th>\n",
       "      <td>393520</td>\n",
       "      <td>Iconoclasts</td>\n",
       "      <td>game</td>\n",
       "      <td>0</td>\n",
       "      <td>4</td>\n",
       "      <td>NaN</td>\n",
       "      <td>NaN</td>\n",
       "      <td>NaN</td>\n",
       "      <td>1</td>\n",
       "      <td>0</td>\n",
       "      <td>...</td>\n",
       "      <td>0</td>\n",
       "      <td>0</td>\n",
       "      <td>0</td>\n",
       "      <td>0</td>\n",
       "      <td>0</td>\n",
       "      <td>0</td>\n",
       "      <td>0</td>\n",
       "      <td>NaN</td>\n",
       "      <td>NaN</td>\n",
       "      <td>2017</td>\n",
       "    </tr>\n",
       "    <tr>\n",
       "      <th>6</th>\n",
       "      <td>595480</td>\n",
       "      <td>Hunahpu: way of the Warrior</td>\n",
       "      <td>game</td>\n",
       "      <td>0</td>\n",
       "      <td>5</td>\n",
       "      <td>BRL</td>\n",
       "      <td>1399.0</td>\n",
       "      <td>1399.0</td>\n",
       "      <td>1</td>\n",
       "      <td>0</td>\n",
       "      <td>...</td>\n",
       "      <td>0</td>\n",
       "      <td>0</td>\n",
       "      <td>0</td>\n",
       "      <td>0</td>\n",
       "      <td>0</td>\n",
       "      <td>0</td>\n",
       "      <td>0</td>\n",
       "      <td>NaN</td>\n",
       "      <td>10.0</td>\n",
       "      <td>10 Apr, 2017</td>\n",
       "    </tr>\n",
       "    <tr>\n",
       "      <th>7</th>\n",
       "      <td>31270</td>\n",
       "      <td>Puzzle Agent</td>\n",
       "      <td>game</td>\n",
       "      <td>0</td>\n",
       "      <td>1</td>\n",
       "      <td>BRL</td>\n",
       "      <td>1049.0</td>\n",
       "      <td>1049.0</td>\n",
       "      <td>1</td>\n",
       "      <td>1</td>\n",
       "      <td>...</td>\n",
       "      <td>0</td>\n",
       "      <td>0</td>\n",
       "      <td>0</td>\n",
       "      <td>0</td>\n",
       "      <td>0</td>\n",
       "      <td>0</td>\n",
       "      <td>0</td>\n",
       "      <td>1514.0</td>\n",
       "      <td>0.0</td>\n",
       "      <td>Jul 2010</td>\n",
       "    </tr>\n",
       "    <tr>\n",
       "      <th>9</th>\n",
       "      <td>677650</td>\n",
       "      <td>Brass</td>\n",
       "      <td>game</td>\n",
       "      <td>0</td>\n",
       "      <td>3</td>\n",
       "      <td>BRL</td>\n",
       "      <td>1999.0</td>\n",
       "      <td>1999.0</td>\n",
       "      <td>1</td>\n",
       "      <td>1</td>\n",
       "      <td>...</td>\n",
       "      <td>0</td>\n",
       "      <td>0</td>\n",
       "      <td>0</td>\n",
       "      <td>0</td>\n",
       "      <td>0</td>\n",
       "      <td>0</td>\n",
       "      <td>0</td>\n",
       "      <td>NaN</td>\n",
       "      <td>38.0</td>\n",
       "      <td>11 Oct, 2017</td>\n",
       "    </tr>\n",
       "  </tbody>\n",
       "</table>\n",
       "<p>5 rows × 85 columns</p>\n",
       "</div>"
      ],
      "text/plain": [
       "       id                         nome  tipo  idade_min  n_ling_sup moeda  \\\n",
       "4  428260          The Book of Desires  game          0           8   BRL   \n",
       "5  393520                  Iconoclasts  game          0           4   NaN   \n",
       "6  595480  Hunahpu: way of the Warrior  game          0           5   BRL   \n",
       "7   31270                 Puzzle Agent  game          0           1   BRL   \n",
       "9  677650                        Brass  game          0           3   BRL   \n",
       "\n",
       "   preco_orig  preco_desc  windows  mac       ...         \\\n",
       "4      1399.0      1399.0        1    0       ...          \n",
       "5         NaN         NaN        1    0       ...          \n",
       "6      1399.0      1399.0        1    0       ...          \n",
       "7      1049.0      1049.0        1    1       ...          \n",
       "9      1999.0      1999.0        1    1       ...          \n",
       "\n",
       "   Includes level editor  Steam Turn Notifications  VR Support  \\\n",
       "4                      0                         0           0   \n",
       "5                      0                         0           0   \n",
       "6                      0                         0           0   \n",
       "7                      0                         0           0   \n",
       "9                      0                         0           0   \n",
       "\n",
       "   SteamVR Collectibles  Includes Source SDK  Commentary available  Mods  \\\n",
       "4                     0                    0                     0     0   \n",
       "5                     0                    0                     0     0   \n",
       "6                     0                    0                     0     0   \n",
       "7                     0                    0                     0     0   \n",
       "9                     0                    0                     0     0   \n",
       "\n",
       "   n_recomendacoes  n_achievements  data_lancamento  \n",
       "4              NaN             NaN     18 Dec, 2015  \n",
       "5              NaN             NaN             2017  \n",
       "6              NaN            10.0     10 Apr, 2017  \n",
       "7           1514.0             0.0         Jul 2010  \n",
       "9              NaN            38.0     11 Oct, 2017  \n",
       "\n",
       "[5 rows x 85 columns]"
      ]
     },
     "execution_count": 9,
     "metadata": {},
     "output_type": "execute_result"
    }
   ],
   "source": [
    "games.head()"
   ]
  },
  {
   "cell_type": "code",
   "execution_count": 10,
   "metadata": {},
   "outputs": [],
   "source": [
    "g_indies = games[games[\"Indie\"] == 1]\n",
    "g_indies = g_indies[g_indies[\"moeda\"] == \"BRL\"]"
   ]
  },
  {
   "cell_type": "code",
   "execution_count": 11,
   "metadata": {},
   "outputs": [
    {
     "data": {
      "text/html": [
       "<div>\n",
       "<style>\n",
       "    .dataframe thead tr:only-child th {\n",
       "        text-align: right;\n",
       "    }\n",
       "\n",
       "    .dataframe thead th {\n",
       "        text-align: left;\n",
       "    }\n",
       "\n",
       "    .dataframe tbody tr th {\n",
       "        vertical-align: top;\n",
       "    }\n",
       "</style>\n",
       "<table border=\"1\" class=\"dataframe\">\n",
       "  <thead>\n",
       "    <tr style=\"text-align: right;\">\n",
       "      <th></th>\n",
       "      <th>id</th>\n",
       "      <th>nome</th>\n",
       "      <th>tipo</th>\n",
       "      <th>idade_min</th>\n",
       "      <th>n_ling_sup</th>\n",
       "      <th>moeda</th>\n",
       "      <th>preco_orig</th>\n",
       "      <th>preco_desc</th>\n",
       "      <th>windows</th>\n",
       "      <th>mac</th>\n",
       "      <th>...</th>\n",
       "      <th>Includes level editor</th>\n",
       "      <th>Steam Turn Notifications</th>\n",
       "      <th>VR Support</th>\n",
       "      <th>SteamVR Collectibles</th>\n",
       "      <th>Includes Source SDK</th>\n",
       "      <th>Commentary available</th>\n",
       "      <th>Mods</th>\n",
       "      <th>n_recomendacoes</th>\n",
       "      <th>n_achievements</th>\n",
       "      <th>data_lancamento</th>\n",
       "    </tr>\n",
       "  </thead>\n",
       "  <tbody>\n",
       "    <tr>\n",
       "      <th>6</th>\n",
       "      <td>595480</td>\n",
       "      <td>Hunahpu: way of the Warrior</td>\n",
       "      <td>game</td>\n",
       "      <td>0</td>\n",
       "      <td>5</td>\n",
       "      <td>BRL</td>\n",
       "      <td>1399.0</td>\n",
       "      <td>1399.0</td>\n",
       "      <td>1</td>\n",
       "      <td>0</td>\n",
       "      <td>...</td>\n",
       "      <td>0</td>\n",
       "      <td>0</td>\n",
       "      <td>0</td>\n",
       "      <td>0</td>\n",
       "      <td>0</td>\n",
       "      <td>0</td>\n",
       "      <td>0</td>\n",
       "      <td>NaN</td>\n",
       "      <td>10.0</td>\n",
       "      <td>10 Apr, 2017</td>\n",
       "    </tr>\n",
       "    <tr>\n",
       "      <th>10</th>\n",
       "      <td>290530</td>\n",
       "      <td>Clandestine</td>\n",
       "      <td>game</td>\n",
       "      <td>0</td>\n",
       "      <td>1</td>\n",
       "      <td>BRL</td>\n",
       "      <td>3699.0</td>\n",
       "      <td>3699.0</td>\n",
       "      <td>1</td>\n",
       "      <td>0</td>\n",
       "      <td>...</td>\n",
       "      <td>0</td>\n",
       "      <td>0</td>\n",
       "      <td>0</td>\n",
       "      <td>0</td>\n",
       "      <td>0</td>\n",
       "      <td>0</td>\n",
       "      <td>0</td>\n",
       "      <td>296.0</td>\n",
       "      <td>50.0</td>\n",
       "      <td>5 Nov, 2015</td>\n",
       "    </tr>\n",
       "    <tr>\n",
       "      <th>12</th>\n",
       "      <td>257990</td>\n",
       "      <td>Oozi: Earth Adventure</td>\n",
       "      <td>game</td>\n",
       "      <td>0</td>\n",
       "      <td>1</td>\n",
       "      <td>BRL</td>\n",
       "      <td>1049.0</td>\n",
       "      <td>1049.0</td>\n",
       "      <td>1</td>\n",
       "      <td>0</td>\n",
       "      <td>...</td>\n",
       "      <td>0</td>\n",
       "      <td>0</td>\n",
       "      <td>0</td>\n",
       "      <td>0</td>\n",
       "      <td>0</td>\n",
       "      <td>0</td>\n",
       "      <td>0</td>\n",
       "      <td>576.0</td>\n",
       "      <td>35.0</td>\n",
       "      <td>5 Dec, 2013</td>\n",
       "    </tr>\n",
       "    <tr>\n",
       "      <th>19</th>\n",
       "      <td>402280</td>\n",
       "      <td>SNIPER BLACKLIST</td>\n",
       "      <td>game</td>\n",
       "      <td>0</td>\n",
       "      <td>1</td>\n",
       "      <td>BRL</td>\n",
       "      <td>219.0</td>\n",
       "      <td>219.0</td>\n",
       "      <td>1</td>\n",
       "      <td>0</td>\n",
       "      <td>...</td>\n",
       "      <td>0</td>\n",
       "      <td>0</td>\n",
       "      <td>0</td>\n",
       "      <td>0</td>\n",
       "      <td>0</td>\n",
       "      <td>0</td>\n",
       "      <td>0</td>\n",
       "      <td>NaN</td>\n",
       "      <td>8.0</td>\n",
       "      <td>11 Aug, 2016</td>\n",
       "    </tr>\n",
       "    <tr>\n",
       "      <th>20</th>\n",
       "      <td>314070</td>\n",
       "      <td>Super Mega Baseball: Extra Innings</td>\n",
       "      <td>game</td>\n",
       "      <td>0</td>\n",
       "      <td>1</td>\n",
       "      <td>BRL</td>\n",
       "      <td>3699.0</td>\n",
       "      <td>3699.0</td>\n",
       "      <td>1</td>\n",
       "      <td>0</td>\n",
       "      <td>...</td>\n",
       "      <td>0</td>\n",
       "      <td>0</td>\n",
       "      <td>0</td>\n",
       "      <td>0</td>\n",
       "      <td>0</td>\n",
       "      <td>0</td>\n",
       "      <td>0</td>\n",
       "      <td>577.0</td>\n",
       "      <td>22.0</td>\n",
       "      <td>21 Aug, 2015</td>\n",
       "    </tr>\n",
       "  </tbody>\n",
       "</table>\n",
       "<p>5 rows × 85 columns</p>\n",
       "</div>"
      ],
      "text/plain": [
       "        id                                nome  tipo  idade_min  n_ling_sup  \\\n",
       "6   595480         Hunahpu: way of the Warrior  game          0           5   \n",
       "10  290530                         Clandestine  game          0           1   \n",
       "12  257990               Oozi: Earth Adventure  game          0           1   \n",
       "19  402280                    SNIPER BLACKLIST  game          0           1   \n",
       "20  314070  Super Mega Baseball: Extra Innings  game          0           1   \n",
       "\n",
       "   moeda  preco_orig  preco_desc  windows  mac       ...         \\\n",
       "6    BRL      1399.0      1399.0        1    0       ...          \n",
       "10   BRL      3699.0      3699.0        1    0       ...          \n",
       "12   BRL      1049.0      1049.0        1    0       ...          \n",
       "19   BRL       219.0       219.0        1    0       ...          \n",
       "20   BRL      3699.0      3699.0        1    0       ...          \n",
       "\n",
       "    Includes level editor  Steam Turn Notifications  VR Support  \\\n",
       "6                       0                         0           0   \n",
       "10                      0                         0           0   \n",
       "12                      0                         0           0   \n",
       "19                      0                         0           0   \n",
       "20                      0                         0           0   \n",
       "\n",
       "    SteamVR Collectibles  Includes Source SDK  Commentary available  Mods  \\\n",
       "6                      0                    0                     0     0   \n",
       "10                     0                    0                     0     0   \n",
       "12                     0                    0                     0     0   \n",
       "19                     0                    0                     0     0   \n",
       "20                     0                    0                     0     0   \n",
       "\n",
       "    n_recomendacoes  n_achievements  data_lancamento  \n",
       "6               NaN            10.0     10 Apr, 2017  \n",
       "10            296.0            50.0      5 Nov, 2015  \n",
       "12            576.0            35.0      5 Dec, 2013  \n",
       "19              NaN             8.0     11 Aug, 2016  \n",
       "20            577.0            22.0     21 Aug, 2015  \n",
       "\n",
       "[5 rows x 85 columns]"
      ]
     },
     "execution_count": 11,
     "metadata": {},
     "output_type": "execute_result"
    }
   ],
   "source": [
    "g_indies.head()"
   ]
  },
  {
   "cell_type": "code",
   "execution_count": 12,
   "metadata": {},
   "outputs": [],
   "source": [
    "genres = [\"Action\",\"Free to Play\", \"Strategy\", \"Casual\", \"Adventure\", \"Simulation\", \"Sports\", \"Racing\", \"RPG\", \"Education\", \"Violent\", \"Gore\", \"Massively Multiplayer\", \"Early Access\", \"Audio Production\", \"Software Training\", \"Utilities\", \"Video Production\", \"Sexual Content\", \"Nudity\", \"Animation & Modeling\", \"Design & Illustration\", \"Photo Editing\", \"Web Publishing\", \"Accounting\"]\n",
    "n_total = []\n",
    "media_preco = []\n",
    "for g in genres:\n",
    "    n_total.append(g_indies[g_indies[g] == 1].shape[0])\n",
    "    media_preco.append(g_indies[g_indies[g] == 1].preco_orig.mean())"
   ]
  },
  {
   "cell_type": "code",
   "execution_count": 13,
   "metadata": {},
   "outputs": [],
   "source": [
    "d = {\"genero\": genres,\n",
    "     \"n_total\": n_total,\n",
    "     \"media_preco\": media_preco\n",
    "    }\n",
    "df2 = pd.DataFrame(data=d)"
   ]
  },
  {
   "cell_type": "code",
   "execution_count": 33,
   "metadata": {},
   "outputs": [
    {
     "data": {
      "text/plain": [
       "<matplotlib.axes._subplots.AxesSubplot at 0x7fa8865dba50>"
      ]
     },
     "execution_count": 33,
     "metadata": {},
     "output_type": "execute_result"
    },
    {
     "data": {
      "image/png": "[encoded data removed]",
      "text/plain": [
       "<matplotlib.figure.Figure at 0x7fa88647e950>"
      ]
     },
     "metadata": {},
     "output_type": "display_data"
    }
   ],
   "source": [
    "df2[df2[\"n_total\"] > 200].set_index('genero').n_total.sort_values().plot(kind=\"bar\")"
   ]
  },
  {
   "cell_type": "code",
   "execution_count": 35,
   "metadata": {},
   "outputs": [
    {
     "data": {
      "text/plain": [
       "<matplotlib.axes._subplots.AxesSubplot at 0x7fa886499cd0>"
      ]
     },
     "execution_count": 35,
     "metadata": {},
     "output_type": "execute_result"
    },
    {
     "data": {
      "image/png": "[encoded data removed]",
      "text/plain": [
       "<matplotlib.figure.Figure at 0x7fa886eb7590>"
      ]
     },
     "metadata": {},
     "output_type": "display_data"
    }
   ],
   "source": [
    "df2[df2[\"n_total\"] > 200].set_index('genero').media_preco.sort_values().dropna().plot(kind=\"bar\")"
   ]
  },
  {
   "cell_type": "code",
   "execution_count": 16,
   "metadata": {},
   "outputs": [],
   "source": [
    "categories = [\"Single-player\", \"Multi-player\", \"Online Multi-Player\", \"Co-op\", \"Online Co-op\", \"Downloadable Content\", \"Steam Achievements\", \"In-App Purchases\", \"Steam Leaderboards\", \"Steam Trading Cards\", \"Steam Cloud\", \"Full controller support\", \"Partial Controller Support\", \"Shared/Split Screen\", \"Cross-Platform Multiplayer\", \"Local Multi-Player\", \"Local Co-op\", \"Stats\", \"MMO\", \"Steam Workshop\", \"Captions available\", \"Valve Anti-Cheat enabled\", \"Includes level editor\", \"Steam Turn Notifications\", \"VR Support\", \"SteamVR Collectibles\", \"Includes Source SDK\", \"Commentary available\", \"Mods\"]\n",
    "n_total_c = []\n",
    "media_preco_c = []\n",
    "for c in categories:\n",
    "    n_total_c.append(g_indies[g_indies[c] == 1].shape[0])\n",
    "    media_preco_c.append(g_indies[g_indies[c] == 1].preco_orig.mean())"
   ]
  },
  {
   "cell_type": "code",
   "execution_count": 17,
   "metadata": {},
   "outputs": [],
   "source": [
    "d = {\"categoria\": categories,\n",
    "     \"n_total\": n_total_c,\n",
    "     \"media_preco\": media_preco_c\n",
    "    }\n",
    "df3 = pd.DataFrame(data=d)"
   ]
  },
  {
   "cell_type": "code",
   "execution_count": 36,
   "metadata": {
    "scrolled": false
   },
   "outputs": [
    {
     "data": {
      "text/plain": [
       "<matplotlib.axes._subplots.AxesSubplot at 0x7fa88638f290>"
      ]
     },
     "execution_count": 36,
     "metadata": {},
     "output_type": "execute_result"
    },
    {
     "data": {
      "image/png": "[encoded data removed]",
      "text/plain": [
       "<matplotlib.figure.Figure at 0x7fa8863997d0>"
      ]
     },
     "metadata": {},
     "output_type": "display_data"
    }
   ],
   "source": [
    "df3[df3[\"n_total\"] > 200].set_index('categoria').n_total.sort_values().plot(kind=\"bar\")"
   ]
  },
  {
   "cell_type": "code",
   "execution_count": 39,
   "metadata": {
    "scrolled": false
   },
   "outputs": [
    {
     "data": {
      "text/plain": [
       "<matplotlib.axes._subplots.AxesSubplot at 0x7fa885f2f250>"
      ]
     },
     "execution_count": 39,
     "metadata": {},
     "output_type": "execute_result"
    },
    {
     "data": {
      "image/png": "[encoded data removed]",
      "text/plain": [
       "<matplotlib.figure.Figure at 0x7fa885f387d0>"
      ]
     },
     "metadata": {},
     "output_type": "display_data"
    }
   ],
   "source": [
    "df3[df3[\"n_total\"] > 200].set_index('categoria').media_preco.sort_values().dropna().plot(kind=\"bar\")"
   ]
  },
  {
   "cell_type": "code",
   "execution_count": 21,
   "metadata": {},
   "outputs": [
    {
     "data": {
      "text/plain": [
       "count    10802.000000\n",
       "mean      1549.274671\n",
       "std       1177.786187\n",
       "min         99.000000\n",
       "25%        629.000000\n",
       "50%       1199.000000\n",
       "75%       1999.000000\n",
       "max      16999.000000\n",
       "Name: preco_orig, dtype: float64"
      ]
     },
     "execution_count": 21,
     "metadata": {},
     "output_type": "execute_result"
    }
   ],
   "source": [
    "g_indies[\"preco_orig\"].describe()"
   ]
  },
  {
   "cell_type": "code",
   "execution_count": 22,
   "metadata": {},
   "outputs": [
    {
     "data": {
      "text/plain": [
       "10802"
      ]
     },
     "execution_count": 22,
     "metadata": {},
     "output_type": "execute_result"
    }
   ],
   "source": [
    "g_indies.shape[0]"
   ]
  },
  {
   "cell_type": "code",
   "execution_count": 23,
   "metadata": {},
   "outputs": [
    {
     "data": {
      "text/plain": [
       "23516    1071\n",
       "Name: n_owners, dtype: int64"
      ]
     },
     "execution_count": 23,
     "metadata": {},
     "output_type": "execute_result"
    }
   ],
   "source": [
    "g_indies[g_indies[\"preco_orig\"] == 16999][\"n_owners\"]"
   ]
  },
  {
   "cell_type": "code",
   "execution_count": 24,
   "metadata": {},
   "outputs": [
    {
     "data": {
      "text/plain": [
       "array(['BRL'], dtype=object)"
      ]
     },
     "execution_count": 24,
     "metadata": {},
     "output_type": "execute_result"
    }
   ],
   "source": [
    "g_indies.moeda.unique()"
   ]
  },
  {
   "cell_type": "code",
   "execution_count": 25,
   "metadata": {},
   "outputs": [
    {
     "data": {
      "text/plain": [
       "1559.5993031358885"
      ]
     },
     "execution_count": 25,
     "metadata": {},
     "output_type": "execute_result"
    }
   ],
   "source": [
    "g_indies[g_indies[\"Action\"] == 1].preco_orig.mean()"
   ]
  },
  {
   "cell_type": "code",
   "execution_count": 26,
   "metadata": {},
   "outputs": [],
   "source": [
    "g_indies[\"idade\"] = g_indies[g_indies[\"data_lancamento\"].notnull()].data_lancamento.apply(lambda x:2018 - int(x.split(\", \")[1]))"
   ]
  },
  {
   "cell_type": "code",
   "execution_count": 27,
   "metadata": {},
   "outputs": [
    {
     "data": {
      "text/plain": [
       "<matplotlib.axes._subplots.AxesSubplot at 0x7fa8872725d0>"
      ]
     },
     "execution_count": 27,
     "metadata": {},
     "output_type": "execute_result"
    },
    {
     "data": {
      "image/png": "[encoded data removed]",
      "text/plain": [
       "<matplotlib.figure.Figure at 0x7fa886ad3bd0>"
      ]
     },
     "metadata": {},
     "output_type": "display_data"
    }
   ],
   "source": [
    "idades = g_indies.idade.dropna().unique()\n",
    "len_idades = []\n",
    "for i in idades:\n",
    "    len_idades.append(g_indies[g_indies[\"idade\"] == i].shape[0])\n",
    "d = {\n",
    "    \"idade\": idades,\n",
    "    \"quantidade\": len_idades\n",
    "}\n",
    "df4 = pd.DataFrame(data= d)\n",
    "df4.set_index(\"idade\").quantidade.sort_values().plot(kind = \"bar\")"
   ]
  },
  {
   "cell_type": "code",
   "execution_count": 28,
   "metadata": {
    "scrolled": false
   },
   "outputs": [
    {
     "data": {
      "text/plain": [
       "<matplotlib.axes._subplots.AxesSubplot at 0x7fa886ae2110>"
      ]
     },
     "execution_count": 28,
     "metadata": {},
     "output_type": "execute_result"
    },
    {
     "data": {
      "image/png": "[encoded data removed]",
      "text/plain": [
       "<matplotlib.figure.Figure at 0x7fa886cdfb50>"
      ]
     },
     "metadata": {},
     "output_type": "display_data"
    }
   ],
   "source": [
    "g_indies.plot.scatter(x=\"idade\", y=\"preco_orig\")"
   ]
  },
  {
   "cell_type": "code",
   "execution_count": 44,
   "metadata": {},
   "outputs": [
    {
     "data": {
      "text/plain": [
       "<matplotlib.axes._subplots.AxesSubplot at 0x7fa8822c1810>"
      ]
     },
     "execution_count": 44,
     "metadata": {},
     "output_type": "execute_result"
    },
    {
     "data": {
      "image/png": "[encoded data removed]",
      "text/plain": [
       "<matplotlib.figure.Figure at 0x7fa8822d7250>"
      ]
     },
     "metadata": {},
     "output_type": "display_data"
    }
   ],
   "source": [
    "(g_indies['preco_orig']/100.0).sort_values().plot(kind='hist', bins=25)"
   ]
  },
  {
   "cell_type": "code",
   "execution_count": 30,
   "metadata": {},
   "outputs": [
    {
     "data": {
      "text/plain": [
       "<matplotlib.axes._subplots.AxesSubplot at 0x7fa88692f150>"
      ]
     },
     "execution_count": 30,
     "metadata": {},
     "output_type": "execute_result"
    },
    {
     "data": {
      "image/png": "[encoded data removed]",
      "text/plain": [
       "<matplotlib.figure.Figure at 0x7fa886526710>"
      ]
     },
     "metadata": {},
     "output_type": "display_data"
    }
   ],
   "source": [
    "g_indies.plot.scatter(x=\"preco_orig\", y=\"score_rank\")"
   ]
  },
  {
   "cell_type": "code",
   "execution_count": 31,
   "metadata": {},
   "outputs": [],
   "source": [
    "g_indies[\"userscore\"] = g_indies[\"n_positive_reviews\"] / (g_indies[\"n_positive_reviews\"] + g_indies[\"n_negative_reviews\"])"
   ]
  },
  {
   "cell_type": "code",
   "execution_count": null,
   "metadata": {},
   "outputs": [],
   "source": []
  }
 ],
 "metadata": {
  "kernelspec": {
   "display_name": "Python 2",
   "language": "python",
   "name": "python2"
  },
  "language_info": {
   "codemirror_mode": {
    "name": "ipython",
    "version": 2
   },
   "file_extension": ".py",
   "mimetype": "text/x-python",
   "name": "python",
   "nbconvert_exporter": "python",
   "pygments_lexer": "ipython2",
   "version": "2.7.12"
  }
 },
 "nbformat": 4,
 "nbformat_minor": 2
}
