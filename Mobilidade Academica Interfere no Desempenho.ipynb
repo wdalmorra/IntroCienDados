{
 "cells": [
  {
   "cell_type": "code",
   "execution_count": 2,
   "metadata": {},
   "outputs": [],
   "source": [
    "%matplotlib inline\n",
    "import pandas as pd\n",
    "import matplotlib as plt\n",
    "import math"
   ]
  },
  {
   "cell_type": "code",
   "execution_count": 4,
   "metadata": {},
   "outputs": [],
   "source": [
    "df = pd.read_csv(\"notas_2014_2017.csv\")"
   ]
  },
  {
   "cell_type": "code",
   "execution_count": 5,
   "metadata": {},
   "outputs": [],
   "source": [
    "alunos_mob = df[df.CODALUNO.isin(df[df[\"DISCIPLINA\"] == \"MOBILIDADE ACADÊMICA INTERNACIONAL\"].CODALUNO.unique())]"
   ]
  },
  {
   "cell_type": "code",
   "execution_count": 21,
   "metadata": {
    "scrolled": true
   },
   "outputs": [],
   "source": [
    "alunos = alunos_mob[alunos_mob[\"DISCIPLINA\"] == \"MOBILIDADE ACADÊMICA INTERNACIONAL\"].CODALUNO.unique()"
   ]
  },
  {
   "cell_type": "code",
   "execution_count": 7,
   "metadata": {},
   "outputs": [
    {
     "name": "stdout",
     "output_type": "stream",
     "text": [
      "518\n"
     ]
    }
   ],
   "source": [
    "alunos_periodo = []\n",
    "for a in alunos:\n",
    "    periodo_mob = alunos_mob[(alunos_mob[\"CODALUNO\"] == a) & (alunos_mob[\"DISCIPLINA\"] == \"MOBILIDADE ACADÊMICA INTERNACIONAL\")].PERIODO\n",
    "    alunos_periodo.append((a, periodo_mob.iloc[0]))\n",
    "print len(alunos_periodo)"
   ]
  },
  {
   "cell_type": "code",
   "execution_count": 22,
   "metadata": {},
   "outputs": [],
   "source": [
    "notas = []\n",
    "for l in alunos_periodo:\n",
    "    aluno = l[0]\n",
    "    periodo = l[1]\n",
    "    notas_antes = alunos_mob[(alunos_mob[\"CODALUNO\"] == aluno)&(alunos_mob[\"PERIODO\"] < periodo)].NOTA\n",
    "    notas_depois = alunos_mob[(alunos_mob[\"CODALUNO\"] == aluno)&(alunos_mob[\"PERIODO\"] > periodo)].NOTA\n",
    "    notas.append((notas_antes.mean(), aluno, notas_depois.mean()))"
   ]
  },
  {
   "cell_type": "code",
   "execution_count": 9,
   "metadata": {},
   "outputs": [
    {
     "name": "stdout",
     "output_type": "stream",
     "text": [
      "231\n"
     ]
    }
   ],
   "source": [
    "notas_filtradas = []\n",
    "for l in notas:\n",
    "    if not (math.isnan(l[0]) or math.isnan(l[2])):\n",
    "        notas_filtradas.append(l)\n",
    "print len(notas_filtradas)"
   ]
  },
  {
   "cell_type": "code",
   "execution_count": 10,
   "metadata": {},
   "outputs": [],
   "source": [
    "n = zip(*notas_filtradas)\n",
    "notas_df = pd.DataFrame(\n",
    "            {\n",
    "                \"CODALUNO\": n[1],\n",
    "                \"NOTAS_ANTES\": n[0],\n",
    "                \"NOTAS_DEPOIS\": n[2]}\n",
    "            )"
   ]
  },
  {
   "cell_type": "code",
   "execution_count": 11,
   "metadata": {},
   "outputs": [],
   "source": [
    "notas_df[\"DIFF_NOTAS\"] = notas_df.NOTAS_DEPOIS - notas_df.NOTAS_ANTES"
   ]
  },
  {
   "cell_type": "code",
   "execution_count": 12,
   "metadata": {},
   "outputs": [
    {
     "data": {
      "text/html": [
       "<div>\n",
       "<style scoped>\n",
       "    .dataframe tbody tr th:only-of-type {\n",
       "        vertical-align: middle;\n",
       "    }\n",
       "\n",
       "    .dataframe tbody tr th {\n",
       "        vertical-align: top;\n",
       "    }\n",
       "\n",
       "    .dataframe thead th {\n",
       "        text-align: right;\n",
       "    }\n",
       "</style>\n",
       "<table border=\"1\" class=\"dataframe\">\n",
       "  <thead>\n",
       "    <tr style=\"text-align: right;\">\n",
       "      <th></th>\n",
       "      <th>CODALUNO</th>\n",
       "      <th>NOTAS_ANTES</th>\n",
       "      <th>NOTAS_DEPOIS</th>\n",
       "      <th>DIFF_NOTAS</th>\n",
       "    </tr>\n",
       "  </thead>\n",
       "  <tbody>\n",
       "    <tr>\n",
       "      <th>0</th>\n",
       "      <td>3542C6DCF5029786A1B6B45FCB91283A</td>\n",
       "      <td>10.000000</td>\n",
       "      <td>10.000</td>\n",
       "      <td>0.000000</td>\n",
       "    </tr>\n",
       "    <tr>\n",
       "      <th>1</th>\n",
       "      <td>3542C6DCF502978691DD5E7C6C5619D6</td>\n",
       "      <td>8.900000</td>\n",
       "      <td>10.000</td>\n",
       "      <td>1.100000</td>\n",
       "    </tr>\n",
       "    <tr>\n",
       "      <th>2</th>\n",
       "      <td>3542C6DCF5029786C13E1261621134ED</td>\n",
       "      <td>0.000000</td>\n",
       "      <td>10.000</td>\n",
       "      <td>10.000000</td>\n",
       "    </tr>\n",
       "    <tr>\n",
       "      <th>3</th>\n",
       "      <td>3542C6DCF5029786139679CEFCF0C92B</td>\n",
       "      <td>9.650000</td>\n",
       "      <td>10.000</td>\n",
       "      <td>0.350000</td>\n",
       "    </tr>\n",
       "    <tr>\n",
       "      <th>4</th>\n",
       "      <td>3542C6DCF5029786891B5354DB9EB2C8</td>\n",
       "      <td>8.185714</td>\n",
       "      <td>9.675</td>\n",
       "      <td>1.489286</td>\n",
       "    </tr>\n",
       "  </tbody>\n",
       "</table>\n",
       "</div>"
      ],
      "text/plain": [
       "                           CODALUNO  NOTAS_ANTES  NOTAS_DEPOIS  DIFF_NOTAS\n",
       "0  3542C6DCF5029786A1B6B45FCB91283A    10.000000        10.000    0.000000\n",
       "1  3542C6DCF502978691DD5E7C6C5619D6     8.900000        10.000    1.100000\n",
       "2  3542C6DCF5029786C13E1261621134ED     0.000000        10.000   10.000000\n",
       "3  3542C6DCF5029786139679CEFCF0C92B     9.650000        10.000    0.350000\n",
       "4  3542C6DCF5029786891B5354DB9EB2C8     8.185714         9.675    1.489286"
      ]
     },
     "execution_count": 12,
     "metadata": {},
     "output_type": "execute_result"
    }
   ],
   "source": [
    "notas_df.head()"
   ]
  },
  {
   "cell_type": "code",
   "execution_count": 13,
   "metadata": {},
   "outputs": [
    {
     "data": {
      "text/plain": [
       "<matplotlib.axes._subplots.AxesSubplot at 0x7fd7e75bed90>"
      ]
     },
     "execution_count": 13,
     "metadata": {},
     "output_type": "execute_result"
    },
    {
     "data": {
      "image/png": "[encoded data removed]",
      "text/plain": [
       "<matplotlib.figure.Figure at 0x7fd7e7585d50>"
      ]
     },
     "metadata": {},
     "output_type": "display_data"
    }
   ],
   "source": [
    "(notas_df.DIFF_NOTAS).plot(kind='hist',bins=40)"
   ]
  },
  {
   "cell_type": "code",
   "execution_count": 14,
   "metadata": {},
   "outputs": [
    {
     "data": {
      "text/plain": [
       "<matplotlib.axes._subplots.AxesSubplot at 0x7fd7e75bed10>"
      ]
     },
     "execution_count": 14,
     "metadata": {},
     "output_type": "execute_result"
    },
    {
     "data": {
      "image/png": "[encoded data removed]",
      "text/plain": [
       "<matplotlib.figure.Figure at 0x7fd7e53ecd10>"
      ]
     },
     "metadata": {},
     "output_type": "display_data"
    }
   ],
   "source": [
    "(notas_df.NOTAS_ANTES).plot(kind='hist',bins=40)"
   ]
  },
  {
   "cell_type": "code",
   "execution_count": 15,
   "metadata": {},
   "outputs": [
    {
     "data": {
      "text/plain": [
       "<matplotlib.axes._subplots.AxesSubplot at 0x7fd7e54a9ad0>"
      ]
     },
     "execution_count": 15,
     "metadata": {},
     "output_type": "execute_result"
    },
    {
     "data": {
      "image/png": "[encoded data removed]",
      "text/plain": [
       "<matplotlib.figure.Figure at 0x7fd7e7a06210>"
      ]
     },
     "metadata": {},
     "output_type": "display_data"
    }
   ],
   "source": [
    "(notas_df.NOTAS_DEPOIS).plot(kind='hist',bins=40)"
   ]
  },
  {
   "cell_type": "code",
   "execution_count": 16,
   "metadata": {},
   "outputs": [
    {
     "data": {
      "text/plain": [
       "<matplotlib.axes._subplots.AxesSubplot at 0x7fd7e5452590>"
      ]
     },
     "execution_count": 16,
     "metadata": {},
     "output_type": "execute_result"
    },
    {
     "data": {
      "image/png": "[encoded data removed]",
      "text/plain": [
       "<matplotlib.figure.Figure at 0x7fd7e522fa90>"
      ]
     },
     "metadata": {},
     "output_type": "display_data"
    }
   ],
   "source": [
    "cats = [\"MELHOROU\", \"PIOROU\"]\n",
    "quants = [notas_df[notas_df.DIFF_NOTAS > 0].shape[0],notas_df[notas_df.DIFF_NOTAS < 0].shape[0]]\n",
    "\n",
    "diff_df = pd.DataFrame(\n",
    "            {\n",
    "                \"CATEGORIA\": cats,\n",
    "                \"QUANTIDADE\": quants }\n",
    "        )\n",
    "diff_df.set_index('CATEGORIA').QUANTIDADE.plot(kind=\"bar\")"
   ]
  },
  {
   "cell_type": "code",
   "execution_count": 23,
   "metadata": {},
   "outputs": [
    {
     "name": "stdout",
     "output_type": "stream",
     "text": [
      "[7.9789338141025388, 8.0287251010151834]\n"
     ]
    },
    {
     "data": {
      "text/plain": [
       "<matplotlib.axes._subplots.AxesSubplot at 0x7fd7e511eb10>"
      ]
     },
     "execution_count": 23,
     "metadata": {},
     "output_type": "execute_result"
    },
    {
     "data": {
      "image/png": "[encoded data removed]",
      "text/plain": [
       "<matplotlib.figure.Figure at 0x7fd7e505ca90>"
      ]
     },
     "metadata": {},
     "output_type": "display_data"
    }
   ],
   "source": [
    "cats2 = [\"MEDIA NOTAS ANTERIORES\", \"MEDIA NOTAS POSTERIORES\"]\n",
    "notas2 = [notas_df[\"NOTAS_ANTES\"].mean(), notas_df[\"NOTAS_DEPOIS\"].mean()]\n",
    "print notas2\n",
    "\n",
    "media_df = pd.DataFrame(\n",
    "            {\n",
    "                \"CATEGORIAS\": cats2,\n",
    "                \"MEDIAS\": notas2\n",
    "            }\n",
    "        )\n",
    "\n",
    "media_df.set_index('CATEGORIAS').MEDIAS.plot(kind=\"bar\")"
   ]
  },
  {
   "cell_type": "markdown",
   "metadata": {},
   "source": [
    "ttest_ind()\n",
    "We can use this test, if we observe two independent samples from the same or different population, e.g. exam scores of boys and girls or of two ethnic groups. The test measures whether the average (expected) value differs significantly across samples. If we observe a large p-value, for example larger than 0.05 or 0.1, then we cannot reject the null hypothesis of identical average scores. If the p-value is smaller than the threshold, e.g. 1%, 5% or 10%, then we reject the null hypothesis of equal averages."
   ]
  },
  {
   "cell_type": "code",
   "execution_count": 18,
   "metadata": {},
   "outputs": [
    {
     "data": {
      "text/plain": [
       "Ttest_indResult(statistic=-0.38650988103187039, pvalue=0.69929780770848915)"
      ]
     },
     "execution_count": 18,
     "metadata": {},
     "output_type": "execute_result"
    }
   ],
   "source": [
    "from scipy.stats import ttest_ind\n",
    "ttest_ind(notas_df['NOTAS_ANTES'], notas_df['NOTAS_DEPOIS'])"
   ]
  },
  {
   "cell_type": "code",
   "execution_count": null,
   "metadata": {},
   "outputs": [],
   "source": []
  },
  {
   "cell_type": "code",
   "execution_count": null,
   "metadata": {},
   "outputs": [],
   "source": []
  }
 ],
 "metadata": {
  "kernelspec": {
   "display_name": "Python 2",
   "language": "python",
   "name": "python2"
  },
  "language_info": {
   "codemirror_mode": {
    "name": "ipython",
    "version": 2
   },
   "file_extension": ".py",
   "mimetype": "text/x-python",
   "name": "python",
   "nbconvert_exporter": "python",
   "pygments_lexer": "ipython2",
   "version": "2.7.12"
  }
 },
 "nbformat": 4,
 "nbformat_minor": 2
}
