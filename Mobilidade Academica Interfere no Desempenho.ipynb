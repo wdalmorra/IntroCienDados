{
 "cells": [
  {
   "cell_type": "code",
   "execution_count": 44,
   "metadata": {},
   "outputs": [],
   "source": [
    "%matplotlib inline\n",
    "import pandas as pd\n",
    "import matplotlib as plt\n",
    "import math"
   ]
  },
  {
   "cell_type": "code",
   "execution_count": 45,
   "metadata": {},
   "outputs": [],
   "source": [
    "df = pd.read_csv(\"notas_2014_2017.csv\")"
   ]
  },
  {
   "cell_type": "markdown",
   "metadata": {},
   "source": [
    "Pega todos os dados de todos os alunos que tem mobilidade acadêmica no seu curriculo"
   ]
  },
  {
   "cell_type": "code",
   "execution_count": 46,
   "metadata": {
    "scrolled": true
   },
   "outputs": [],
   "source": [
    "alunos_mob = df[df.CODALUNO.isin(df[df[\"DISCIPLINA\"] == \"MOBILIDADE ACADÊMICA INTERNACIONAL\"].CODALUNO.unique())]"
   ]
  },
  {
   "cell_type": "markdown",
   "metadata": {},
   "source": [
    "Pega uma lista com o CODALUNO de todos os alunos que tem mobilidade acadêmica"
   ]
  },
  {
   "cell_type": "code",
   "execution_count": 47,
   "metadata": {
    "scrolled": true
   },
   "outputs": [],
   "source": [
    "alunos = alunos_mob[alunos_mob[\"DISCIPLINA\"] == \"MOBILIDADE ACADÊMICA INTERNACIONAL\"].CODALUNO.unique()"
   ]
  },
  {
   "cell_type": "markdown",
   "metadata": {},
   "source": [
    "Cria uma tupla com o codigo do aluno e o primeiro período de sua mobilidade academica, pra cada aluno"
   ]
  },
  {
   "cell_type": "code",
   "execution_count": 48,
   "metadata": {},
   "outputs": [
    {
     "name": "stdout",
     "output_type": "stream",
     "text": [
      "518\n"
     ]
    }
   ],
   "source": [
    "alunos_periodo = []\n",
    "for a in alunos:\n",
    "    periodo_mob = alunos_mob[(alunos_mob[\"CODALUNO\"] == a) & (alunos_mob[\"DISCIPLINA\"] == \"MOBILIDADE ACADÊMICA INTERNACIONAL\")].PERIODO\n",
    "    alunos_periodo.append((a, periodo_mob.iloc[0]))\n",
    "print len(alunos_periodo)"
   ]
  },
  {
   "cell_type": "markdown",
   "metadata": {},
   "source": [
    "Cria-se 1 vetor de tuplas, contendo a média das notas de todos os semestres antes e depois do intercambio e o codigo do aluno"
   ]
  },
  {
   "cell_type": "code",
   "execution_count": 49,
   "metadata": {},
   "outputs": [],
   "source": [
    "notas = []\n",
    "for l in alunos_periodo:\n",
    "    aluno = l[0]\n",
    "    periodo = l[1]\n",
    "    notas_antes = alunos_mob[(alunos_mob[\"CODALUNO\"] == aluno)&(alunos_mob[\"PERIODO\"] < periodo)].NOTA\n",
    "    notas_depois = alunos_mob[(alunos_mob[\"CODALUNO\"] == aluno)&(alunos_mob[\"PERIODO\"] > periodo)].NOTA\n",
    "    notas.append((notas_antes.mean(), aluno, notas_depois.mean()))"
   ]
  },
  {
   "cell_type": "markdown",
   "metadata": {},
   "source": [
    "Filtra os alunos, pegando somente aqueles que tem alguma nota antes e depois da mobilidade acadêmica"
   ]
  },
  {
   "cell_type": "code",
   "execution_count": 50,
   "metadata": {},
   "outputs": [
    {
     "name": "stdout",
     "output_type": "stream",
     "text": [
      "231\n"
     ]
    }
   ],
   "source": [
    "notas_filtradas = []\n",
    "for l in notas:\n",
    "    if not (math.isnan(l[0]) or math.isnan(l[2])):\n",
    "        notas_filtradas.append(l)\n",
    "print len(notas_filtradas)"
   ]
  },
  {
   "cell_type": "markdown",
   "metadata": {},
   "source": [
    "Cria um dataframe contendo o codigo do aluno, sua média antes do intercâmbio e sua média depois do intercâmbio"
   ]
  },
  {
   "cell_type": "code",
   "execution_count": 51,
   "metadata": {},
   "outputs": [],
   "source": [
    "n = zip(*notas_filtradas)\n",
    "notas_df = pd.DataFrame(\n",
    "            {\n",
    "                \"CODALUNO\": n[1],\n",
    "                \"NOTAS_ANTES\": n[0],\n",
    "                \"NOTAS_DEPOIS\": n[2]}\n",
    "            )"
   ]
  },
  {
   "cell_type": "code",
   "execution_count": 52,
   "metadata": {},
   "outputs": [
    {
     "data": {
      "text/html": [
       "<div>\n",
       "<style scoped>\n",
       "    .dataframe tbody tr th:only-of-type {\n",
       "        vertical-align: middle;\n",
       "    }\n",
       "\n",
       "    .dataframe tbody tr th {\n",
       "        vertical-align: top;\n",
       "    }\n",
       "\n",
       "    .dataframe thead th {\n",
       "        text-align: right;\n",
       "    }\n",
       "</style>\n",
       "<table border=\"1\" class=\"dataframe\">\n",
       "  <thead>\n",
       "    <tr style=\"text-align: right;\">\n",
       "      <th></th>\n",
       "      <th>CODALUNO</th>\n",
       "      <th>NOTAS_ANTES</th>\n",
       "      <th>NOTAS_DEPOIS</th>\n",
       "    </tr>\n",
       "  </thead>\n",
       "  <tbody>\n",
       "    <tr>\n",
       "      <th>0</th>\n",
       "      <td>3542C6DCF5029786A1B6B45FCB91283A</td>\n",
       "      <td>10.000000</td>\n",
       "      <td>10.000</td>\n",
       "    </tr>\n",
       "    <tr>\n",
       "      <th>1</th>\n",
       "      <td>3542C6DCF502978691DD5E7C6C5619D6</td>\n",
       "      <td>8.900000</td>\n",
       "      <td>10.000</td>\n",
       "    </tr>\n",
       "    <tr>\n",
       "      <th>2</th>\n",
       "      <td>3542C6DCF5029786C13E1261621134ED</td>\n",
       "      <td>0.000000</td>\n",
       "      <td>10.000</td>\n",
       "    </tr>\n",
       "    <tr>\n",
       "      <th>3</th>\n",
       "      <td>3542C6DCF5029786139679CEFCF0C92B</td>\n",
       "      <td>9.650000</td>\n",
       "      <td>10.000</td>\n",
       "    </tr>\n",
       "    <tr>\n",
       "      <th>4</th>\n",
       "      <td>3542C6DCF5029786891B5354DB9EB2C8</td>\n",
       "      <td>8.185714</td>\n",
       "      <td>9.675</td>\n",
       "    </tr>\n",
       "  </tbody>\n",
       "</table>\n",
       "</div>"
      ],
      "text/plain": [
       "                           CODALUNO  NOTAS_ANTES  NOTAS_DEPOIS\n",
       "0  3542C6DCF5029786A1B6B45FCB91283A    10.000000        10.000\n",
       "1  3542C6DCF502978691DD5E7C6C5619D6     8.900000        10.000\n",
       "2  3542C6DCF5029786C13E1261621134ED     0.000000        10.000\n",
       "3  3542C6DCF5029786139679CEFCF0C92B     9.650000        10.000\n",
       "4  3542C6DCF5029786891B5354DB9EB2C8     8.185714         9.675"
      ]
     },
     "execution_count": 52,
     "metadata": {},
     "output_type": "execute_result"
    }
   ],
   "source": [
    "notas_df.head()"
   ]
  },
  {
   "cell_type": "code",
   "execution_count": 53,
   "metadata": {},
   "outputs": [
    {
     "data": {
      "text/plain": [
       "<matplotlib.axes._subplots.AxesSubplot at 0x7fad61a6ca90>"
      ]
     },
     "execution_count": 53,
     "metadata": {},
     "output_type": "execute_result"
    },
    {
     "data": {
      "image/png": "[encoded data removed]",
      "text/plain": [
       "<matplotlib.figure.Figure at 0x7fad56267d50>"
      ]
     },
     "metadata": {},
     "output_type": "display_data"
    }
   ],
   "source": [
    "(notas_df.NOTAS_ANTES).plot(kind='hist',bins=40)"
   ]
  },
  {
   "cell_type": "code",
   "execution_count": 54,
   "metadata": {},
   "outputs": [
    {
     "data": {
      "text/plain": [
       "<matplotlib.axes._subplots.AxesSubplot at 0x7fad61074390>"
      ]
     },
     "execution_count": 54,
     "metadata": {},
     "output_type": "execute_result"
    },
    {
     "data": {
      "image/png": "[encoded data removed]",
      "text/plain": [
       "<matplotlib.figure.Figure at 0x7fad61086dd0>"
      ]
     },
     "metadata": {},
     "output_type": "display_data"
    }
   ],
   "source": [
    "(notas_df.NOTAS_DEPOIS).plot(kind='hist',bins=40)"
   ]
  },
  {
   "cell_type": "code",
   "execution_count": 56,
   "metadata": {},
   "outputs": [
    {
     "data": {
      "text/plain": [
       "count    231.000000\n",
       "mean       7.978934\n",
       "std        1.206619\n",
       "min        0.000000\n",
       "25%        7.425625\n",
       "50%        8.156522\n",
       "75%        8.700000\n",
       "max       10.000000\n",
       "Name: NOTAS_ANTES, dtype: float64"
      ]
     },
     "execution_count": 56,
     "metadata": {},
     "output_type": "execute_result"
    }
   ],
   "source": [
    "notas_df.NOTAS_ANTES.describe()"
   ]
  },
  {
   "cell_type": "code",
   "execution_count": 55,
   "metadata": {},
   "outputs": [
    {
     "data": {
      "text/plain": [
       "count    231.000000\n",
       "mean       8.028725\n",
       "std        1.541943\n",
       "min        0.000000\n",
       "25%        7.581875\n",
       "50%        8.285714\n",
       "75%        8.908333\n",
       "max       10.000000\n",
       "Name: NOTAS_DEPOIS, dtype: float64"
      ]
     },
     "execution_count": 55,
     "metadata": {},
     "output_type": "execute_result"
    }
   ],
   "source": [
    "notas_df.NOTAS_DEPOIS.describe()"
   ]
  },
  {
   "cell_type": "markdown",
   "metadata": {},
   "source": [
    "ttest_ind()\n",
    "We can use this test, if we observe two independent samples from the same or different population, e.g. exam scores of boys and girls or of two ethnic groups. The test measures whether the average (expected) value differs significantly across samples. If we observe a large p-value, for example larger than 0.05 or 0.1, then we cannot reject the null hypothesis of identical average scores. If the p-value is smaller than the threshold, e.g. 1%, 5% or 10%, then we reject the null hypothesis of equal averages."
   ]
  },
  {
   "cell_type": "code",
   "execution_count": 57,
   "metadata": {},
   "outputs": [
    {
     "data": {
      "text/plain": [
       "Ttest_indResult(statistic=-0.38650988103187039, pvalue=0.69929780770848915)"
      ]
     },
     "execution_count": 57,
     "metadata": {},
     "output_type": "execute_result"
    }
   ],
   "source": [
    "from scipy.stats import ttest_ind\n",
    "ttest_ind(notas_df['NOTAS_ANTES'], notas_df['NOTAS_DEPOIS'])"
   ]
  },
  {
   "cell_type": "markdown",
   "metadata": {},
   "source": [
    "Logo, conclui-se que não podemos descartar a possibilidade das médias serem iguais."
   ]
  },
  {
   "cell_type": "code",
   "execution_count": 58,
   "metadata": {},
   "outputs": [
    {
     "data": {
      "text/plain": [
       "CODALUNO        35\n",
       "NOTAS_ANTES     35\n",
       "NOTAS_DEPOIS    35\n",
       "dtype: int64"
      ]
     },
     "execution_count": 58,
     "metadata": {},
     "output_type": "execute_result"
    }
   ],
   "source": [
    "notas_df[notas_df.NOTAS_ANTES < 7].count()"
   ]
  },
  {
   "cell_type": "code",
   "execution_count": 59,
   "metadata": {},
   "outputs": [
    {
     "data": {
      "text/plain": [
       "<matplotlib.axes._subplots.AxesSubplot at 0x7fad610a7490>"
      ]
     },
     "execution_count": 59,
     "metadata": {},
     "output_type": "execute_result"
    },
    {
     "data": {
      "image/png": "[encoded data removed]",
      "text/plain": [
       "<matplotlib.figure.Figure at 0x7fad48762150>"
      ]
     },
     "metadata": {},
     "output_type": "display_data"
    }
   ],
   "source": [
    "(notas_df[notas_df.NOTAS_ANTES < 7].NOTAS_ANTES).plot(kind='hist',bins=40)"
   ]
  },
  {
   "cell_type": "code",
   "execution_count": 60,
   "metadata": {
    "scrolled": true
   },
   "outputs": [
    {
     "data": {
      "text/plain": [
       "<matplotlib.axes._subplots.AxesSubplot at 0x7fad61149390>"
      ]
     },
     "execution_count": 60,
     "metadata": {},
     "output_type": "execute_result"
    },
    {
     "data": {
      "image/png": "[encoded data removed]",
      "text/plain": [
       "<matplotlib.figure.Figure at 0x7fad5e36e850>"
      ]
     },
     "metadata": {},
     "output_type": "display_data"
    }
   ],
   "source": [
    "(notas_df[notas_df.NOTAS_ANTES < 7].NOTAS_DEPOIS).plot(kind='hist',bins=40)"
   ]
  },
  {
   "cell_type": "code",
   "execution_count": 61,
   "metadata": {},
   "outputs": [
    {
     "data": {
      "text/plain": [
       "count    35.000000\n",
       "mean      6.027318\n",
       "std       1.537296\n",
       "min       0.000000\n",
       "25%       5.912500\n",
       "50%       6.594737\n",
       "75%       6.860000\n",
       "max       6.976923\n",
       "Name: NOTAS_ANTES, dtype: float64"
      ]
     },
     "execution_count": 61,
     "metadata": {},
     "output_type": "execute_result"
    }
   ],
   "source": [
    "notas_df[notas_df.NOTAS_ANTES < 7].NOTAS_ANTES.describe()"
   ]
  },
  {
   "cell_type": "code",
   "execution_count": 62,
   "metadata": {},
   "outputs": [
    {
     "data": {
      "text/plain": [
       "count    35.000000\n",
       "mean      6.894663\n",
       "std       1.825578\n",
       "min       0.307143\n",
       "25%       6.468382\n",
       "50%       7.000000\n",
       "75%       7.902381\n",
       "max      10.000000\n",
       "Name: NOTAS_DEPOIS, dtype: float64"
      ]
     },
     "execution_count": 62,
     "metadata": {},
     "output_type": "execute_result"
    }
   ],
   "source": [
    "notas_df[notas_df.NOTAS_ANTES < 7].NOTAS_DEPOIS.describe()"
   ]
  },
  {
   "cell_type": "code",
   "execution_count": 63,
   "metadata": {},
   "outputs": [
    {
     "data": {
      "text/plain": [
       "Ttest_indResult(statistic=-2.1500092756633395, pvalue=0.035114116939720059)"
      ]
     },
     "execution_count": 63,
     "metadata": {},
     "output_type": "execute_result"
    }
   ],
   "source": [
    "ttest_ind(notas_df[notas_df.NOTAS_ANTES < 7].NOTAS_ANTES, notas_df[notas_df.NOTAS_ANTES < 7].NOTAS_DEPOIS)"
   ]
  },
  {
   "cell_type": "markdown",
   "metadata": {},
   "source": [
    "Logo, conclui-se com 95% de confiança que as médias são significativamente diferentes!"
   ]
  },
  {
   "cell_type": "code",
   "execution_count": 64,
   "metadata": {},
   "outputs": [
    {
     "data": {
      "text/plain": [
       "<matplotlib.axes._subplots.AxesSubplot at 0x7fad5e1c1250>"
      ]
     },
     "execution_count": 64,
     "metadata": {},
     "output_type": "execute_result"
    },
    {
     "data": {
      "image/png": "[encoded data removed]",
      "text/plain": [
       "<matplotlib.figure.Figure at 0x7fad5e2aff10>"
      ]
     },
     "metadata": {},
     "output_type": "display_data"
    }
   ],
   "source": [
    "(notas_df[notas_df.NOTAS_ANTES > 7].NOTAS_ANTES).plot(kind='hist',bins=40)"
   ]
  },
  {
   "cell_type": "code",
   "execution_count": 65,
   "metadata": {},
   "outputs": [
    {
     "data": {
      "text/plain": [
       "<matplotlib.axes._subplots.AxesSubplot at 0x7fad5e04ec50>"
      ]
     },
     "execution_count": 65,
     "metadata": {},
     "output_type": "execute_result"
    },
    {
     "data": {
      "image/png": "[encoded data removed]",
      "text/plain": [
       "<matplotlib.figure.Figure at 0x7fad5e376310>"
      ]
     },
     "metadata": {},
     "output_type": "display_data"
    }
   ],
   "source": [
    "(notas_df[notas_df.NOTAS_ANTES > 7].NOTAS_DEPOIS).plot(kind='hist',bins=40)"
   ]
  },
  {
   "cell_type": "code",
   "execution_count": 67,
   "metadata": {},
   "outputs": [
    {
     "data": {
      "text/plain": [
       "count    195.000000\n",
       "mean       8.334244\n",
       "std        0.702087\n",
       "min        7.121739\n",
       "25%        7.775714\n",
       "50%        8.314286\n",
       "75%        8.805556\n",
       "max       10.000000\n",
       "Name: NOTAS_ANTES, dtype: float64"
      ]
     },
     "execution_count": 67,
     "metadata": {},
     "output_type": "execute_result"
    }
   ],
   "source": [
    "notas_df[notas_df.NOTAS_ANTES > 7].NOTAS_ANTES.describe()"
   ]
  },
  {
   "cell_type": "code",
   "execution_count": 66,
   "metadata": {},
   "outputs": [
    {
     "data": {
      "text/plain": [
       "count    195.000000\n",
       "mean       8.271525\n",
       "std        1.281196\n",
       "min        0.000000\n",
       "25%        7.889935\n",
       "50%        8.500000\n",
       "75%        8.987500\n",
       "max       10.000000\n",
       "Name: NOTAS_DEPOIS, dtype: float64"
      ]
     },
     "execution_count": 66,
     "metadata": {},
     "output_type": "execute_result"
    }
   ],
   "source": [
    "notas_df[notas_df.NOTAS_ANTES > 7].NOTAS_DEPOIS.describe()"
   ]
  },
  {
   "cell_type": "code",
   "execution_count": 68,
   "metadata": {},
   "outputs": [
    {
     "data": {
      "text/plain": [
       "Ttest_indResult(statistic=0.59949063374993949, pvalue=0.54919565332611986)"
      ]
     },
     "execution_count": 68,
     "metadata": {},
     "output_type": "execute_result"
    }
   ],
   "source": [
    "ttest_ind(notas_df[notas_df.NOTAS_ANTES > 7].NOTAS_ANTES, notas_df[notas_df.NOTAS_ANTES > 7].NOTAS_DEPOIS)"
   ]
  },
  {
   "cell_type": "markdown",
   "metadata": {},
   "source": [
    "Logo, conclui-se que não pode-se excluir a possibilidade das médias serem iguais. "
   ]
  },
  {
   "cell_type": "markdown",
   "metadata": {},
   "source": [
    "PERGUNTA: A participação do aluno em um programa de Mobilidade Acadêmica Internacional afeta a nota do aluno após seu retorno?\n",
    "\n",
    "LIMITAÇÕES: Para responder esta pergunta, sofremos com a limitação de não possuir as notas anteriores à 2014/1, que foi onde ocorreram a maioria das mobilidades acadêmicas nesta base de dados. Logo, foi necessário filtrar os alunos que possuíam dados de algum semestre antes de iniciar sua mobilidade e dados de algum semestre após o seu retorno. Portanto, os alunos foram filtrados, restando apenas 231 alunos para serem estudadas as notas.\n",
    "\n",
    "METODOLOGIA: Para avaliar as notas, foram calculadas as médias de cada aluno antes de iniciar seu intercâmbio e as médias após o seu retorno, utilizando a média aritmética simples de todas as cadeiras cursadas. Após, foram realizados os mesmos testes filtrando apenas por alunos que antes de iniciar a mobilidade possuíam média inferior à 7 e depois superior à 7.\n",
    "\n",
    "RESULTADOS: Considerando todos os alunos, foi analisado que participar de mobilidade acadêmica internacional não afeta a média geral dos alunos. A partir deste resultado, foi criada a hipótese de que isso acontece por para iniciar a mobilidade, é necessário ser considerado aluno de excelência. Portanto, foi considerado que a média não é afetada porque a maioria dos alunos já possuem médias altas e assim não há uma margem alta para melhoria. Para analisar esta hipótese, os alunos foram divididos em alunos com média inferior e superior à 7 antes do início da sua mobilidade. Nos alunos com notas superiores à 7, foi constatado que realmente as médias gerais não são afetadas significativamente pela participação em programas de intercâmbio. Entretanto, na análise dos alunos com média inferior à 7, embora sejam poucos (35 alunos), foi observado que a média aumentou de 6.03 para 6.9. Embora estes valores pareçam próximos, através do teste t de student foi confirmada a diferença significativa entre as médias. Outro ponto que podemos perceber são os quartis 50% e 75% que possuem um aumento mais perceptível."
   ]
  },
  {
   "cell_type": "code",
   "execution_count": null,
   "metadata": {},
   "outputs": [],
   "source": []
  },
  {
   "cell_type": "code",
   "execution_count": null,
   "metadata": {},
   "outputs": [],
   "source": []
  }
 ],
 "metadata": {
  "kernelspec": {
   "display_name": "Python 2",
   "language": "python",
   "name": "python2"
  },
  "language_info": {
   "codemirror_mode": {
    "name": "ipython",
    "version": 2
   },
   "file_extension": ".py",
   "mimetype": "text/x-python",
   "name": "python",
   "nbconvert_exporter": "python",
   "pygments_lexer": "ipython2",
   "version": "2.7.12"
  }
 },
 "nbformat": 4,
 "nbformat_minor": 2
}
